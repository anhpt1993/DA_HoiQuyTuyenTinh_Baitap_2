{
 "cells": [
  {
   "cell_type": "markdown",
   "id": "fa1a652a-039f-4505-a946-9a24b9a545b9",
   "metadata": {},
   "source": [
    "# 0. Khai báo các thư viện cần thiết"
   ]
  },
  {
   "cell_type": "code",
   "execution_count": 1,
   "id": "cd9287fa-ec1e-493b-aca6-4e5d60afc68c",
   "metadata": {},
   "outputs": [],
   "source": [
    "import pandas as pd\n",
    "import numpy as np\n",
    "import seaborn as sns\n",
    "import matplotlib.pyplot as plt\n",
    "from scipy import stats\n",
    "from sklearn.model_selection import train_test_split, cross_val_score\n",
    "from sklearn.dummy import DummyRegressor\n",
    "from sklearn.linear_model import LinearRegression\n",
    "from sklearn.metrics import mean_squared_error\n",
    "from sklearn.preprocessing import StandardScaler\n",
    "from sklearn.metrics import r2_score"
   ]
  },
  {
   "cell_type": "markdown",
   "id": "78ade4c2-849d-4f1e-b05a-4772aff23070",
   "metadata": {},
   "source": [
    "# 1. Đọc dữ liệu từ file CSV"
   ]
  },
  {
   "cell_type": "code",
   "execution_count": 2,
   "id": "59239209-4308-4fef-900b-35a11ca126d2",
   "metadata": {},
   "outputs": [
    {
     "data": {
      "text/html": [
       "<div>\n",
       "<style scoped>\n",
       "    .dataframe tbody tr th:only-of-type {\n",
       "        vertical-align: middle;\n",
       "    }\n",
       "\n",
       "    .dataframe tbody tr th {\n",
       "        vertical-align: top;\n",
       "    }\n",
       "\n",
       "    .dataframe thead th {\n",
       "        text-align: right;\n",
       "    }\n",
       "</style>\n",
       "<table border=\"1\" class=\"dataframe\">\n",
       "  <thead>\n",
       "    <tr style=\"text-align: right;\">\n",
       "      <th></th>\n",
       "      <th>age</th>\n",
       "      <th>sex</th>\n",
       "      <th>bmi</th>\n",
       "      <th>children</th>\n",
       "      <th>smoker</th>\n",
       "      <th>region</th>\n",
       "      <th>charges</th>\n",
       "    </tr>\n",
       "  </thead>\n",
       "  <tbody>\n",
       "    <tr>\n",
       "      <th>0</th>\n",
       "      <td>19</td>\n",
       "      <td>female</td>\n",
       "      <td>27.900</td>\n",
       "      <td>0</td>\n",
       "      <td>yes</td>\n",
       "      <td>southwest</td>\n",
       "      <td>16884.92400</td>\n",
       "    </tr>\n",
       "    <tr>\n",
       "      <th>1</th>\n",
       "      <td>18</td>\n",
       "      <td>male</td>\n",
       "      <td>33.770</td>\n",
       "      <td>1</td>\n",
       "      <td>no</td>\n",
       "      <td>southeast</td>\n",
       "      <td>1725.55230</td>\n",
       "    </tr>\n",
       "    <tr>\n",
       "      <th>2</th>\n",
       "      <td>28</td>\n",
       "      <td>male</td>\n",
       "      <td>33.000</td>\n",
       "      <td>3</td>\n",
       "      <td>no</td>\n",
       "      <td>southeast</td>\n",
       "      <td>4449.46200</td>\n",
       "    </tr>\n",
       "    <tr>\n",
       "      <th>3</th>\n",
       "      <td>33</td>\n",
       "      <td>male</td>\n",
       "      <td>22.705</td>\n",
       "      <td>0</td>\n",
       "      <td>no</td>\n",
       "      <td>northwest</td>\n",
       "      <td>21984.47061</td>\n",
       "    </tr>\n",
       "    <tr>\n",
       "      <th>4</th>\n",
       "      <td>32</td>\n",
       "      <td>male</td>\n",
       "      <td>28.880</td>\n",
       "      <td>0</td>\n",
       "      <td>no</td>\n",
       "      <td>northwest</td>\n",
       "      <td>3866.85520</td>\n",
       "    </tr>\n",
       "  </tbody>\n",
       "</table>\n",
       "</div>"
      ],
      "text/plain": [
       "   age     sex     bmi  children smoker     region      charges\n",
       "0   19  female  27.900         0    yes  southwest  16884.92400\n",
       "1   18    male  33.770         1     no  southeast   1725.55230\n",
       "2   28    male  33.000         3     no  southeast   4449.46200\n",
       "3   33    male  22.705         0     no  northwest  21984.47061\n",
       "4   32    male  28.880         0     no  northwest   3866.85520"
      ]
     },
     "execution_count": 2,
     "metadata": {},
     "output_type": "execute_result"
    }
   ],
   "source": [
    "df = pd.read_csv(\"https://s3.ap-southeast-1.amazonaws.com/learn.codegym.vn/media/public/2022/03/10172524/insurance.csv\", encoding = \"ISO-8859-1\")\n",
    "df.head()"
   ]
  },
  {
   "cell_type": "code",
   "execution_count": 3,
   "id": "33ace4ee-d1e2-4c45-b1c4-29f2c2c7cca8",
   "metadata": {},
   "outputs": [
    {
     "name": "stdout",
     "output_type": "stream",
     "text": [
      "<class 'pandas.core.frame.DataFrame'>\n",
      "RangeIndex: 1338 entries, 0 to 1337\n",
      "Data columns (total 7 columns):\n",
      " #   Column    Non-Null Count  Dtype  \n",
      "---  ------    --------------  -----  \n",
      " 0   age       1338 non-null   int64  \n",
      " 1   sex       1338 non-null   object \n",
      " 2   bmi       1338 non-null   float64\n",
      " 3   children  1338 non-null   int64  \n",
      " 4   smoker    1338 non-null   object \n",
      " 5   region    1338 non-null   object \n",
      " 6   charges   1338 non-null   float64\n",
      "dtypes: float64(2), int64(2), object(3)\n",
      "memory usage: 73.3+ KB\n"
     ]
    }
   ],
   "source": [
    "df.info()"
   ]
  },
  {
   "cell_type": "code",
   "execution_count": 4,
   "id": "e6005e85-71cc-4615-abd9-58b00410ab12",
   "metadata": {},
   "outputs": [
    {
     "data": {
      "text/html": [
       "<div>\n",
       "<style scoped>\n",
       "    .dataframe tbody tr th:only-of-type {\n",
       "        vertical-align: middle;\n",
       "    }\n",
       "\n",
       "    .dataframe tbody tr th {\n",
       "        vertical-align: top;\n",
       "    }\n",
       "\n",
       "    .dataframe thead th {\n",
       "        text-align: right;\n",
       "    }\n",
       "</style>\n",
       "<table border=\"1\" class=\"dataframe\">\n",
       "  <thead>\n",
       "    <tr style=\"text-align: right;\">\n",
       "      <th></th>\n",
       "      <th>age</th>\n",
       "      <th>bmi</th>\n",
       "      <th>children</th>\n",
       "      <th>charges</th>\n",
       "    </tr>\n",
       "  </thead>\n",
       "  <tbody>\n",
       "    <tr>\n",
       "      <th>count</th>\n",
       "      <td>1338.000000</td>\n",
       "      <td>1338.000000</td>\n",
       "      <td>1338.000000</td>\n",
       "      <td>1338.000000</td>\n",
       "    </tr>\n",
       "    <tr>\n",
       "      <th>mean</th>\n",
       "      <td>39.207025</td>\n",
       "      <td>30.663397</td>\n",
       "      <td>1.094918</td>\n",
       "      <td>13270.422265</td>\n",
       "    </tr>\n",
       "    <tr>\n",
       "      <th>std</th>\n",
       "      <td>14.049960</td>\n",
       "      <td>6.098187</td>\n",
       "      <td>1.205493</td>\n",
       "      <td>12110.011237</td>\n",
       "    </tr>\n",
       "    <tr>\n",
       "      <th>min</th>\n",
       "      <td>18.000000</td>\n",
       "      <td>15.960000</td>\n",
       "      <td>0.000000</td>\n",
       "      <td>1121.873900</td>\n",
       "    </tr>\n",
       "    <tr>\n",
       "      <th>25%</th>\n",
       "      <td>27.000000</td>\n",
       "      <td>26.296250</td>\n",
       "      <td>0.000000</td>\n",
       "      <td>4740.287150</td>\n",
       "    </tr>\n",
       "    <tr>\n",
       "      <th>50%</th>\n",
       "      <td>39.000000</td>\n",
       "      <td>30.400000</td>\n",
       "      <td>1.000000</td>\n",
       "      <td>9382.033000</td>\n",
       "    </tr>\n",
       "    <tr>\n",
       "      <th>75%</th>\n",
       "      <td>51.000000</td>\n",
       "      <td>34.693750</td>\n",
       "      <td>2.000000</td>\n",
       "      <td>16639.912515</td>\n",
       "    </tr>\n",
       "    <tr>\n",
       "      <th>max</th>\n",
       "      <td>64.000000</td>\n",
       "      <td>53.130000</td>\n",
       "      <td>5.000000</td>\n",
       "      <td>63770.428010</td>\n",
       "    </tr>\n",
       "  </tbody>\n",
       "</table>\n",
       "</div>"
      ],
      "text/plain": [
       "               age          bmi     children       charges\n",
       "count  1338.000000  1338.000000  1338.000000   1338.000000\n",
       "mean     39.207025    30.663397     1.094918  13270.422265\n",
       "std      14.049960     6.098187     1.205493  12110.011237\n",
       "min      18.000000    15.960000     0.000000   1121.873900\n",
       "25%      27.000000    26.296250     0.000000   4740.287150\n",
       "50%      39.000000    30.400000     1.000000   9382.033000\n",
       "75%      51.000000    34.693750     2.000000  16639.912515\n",
       "max      64.000000    53.130000     5.000000  63770.428010"
      ]
     },
     "execution_count": 4,
     "metadata": {},
     "output_type": "execute_result"
    }
   ],
   "source": [
    "df.describe()"
   ]
  },
  {
   "cell_type": "markdown",
   "id": "69a4ee39-6258-4c8b-a496-5bef7c65ae2a",
   "metadata": {},
   "source": [
    "# 2. Trực quan hoá dữ liệu"
   ]
  },
  {
   "cell_type": "code",
   "execution_count": 5,
   "id": "e13137db-eca0-4263-a59e-bd6c3e78a345",
   "metadata": {},
   "outputs": [
    {
     "data": {
      "image/png": "[encoded data removed]",
      "text/plain": [
       "<Figure size 1296x288 with 2 Axes>"
      ]
     },
     "metadata": {
      "needs_background": "light"
     },
     "output_type": "display_data"
    }
   ],
   "source": [
    "# Biểu đồ scatter thể hiện mối quan hệ giữa tuổi được bảo hiểm với chi phí y tế và giữa chỉ số trọng lượng cơ thể với chi phí y tế\n",
    "fig, ax = plt.subplots(1, 2, figsize = (18, 4))\n",
    "sns.scatterplot(x = \"age\", y = \"charges\", data = df, ax = ax[0])\n",
    "sns.scatterplot(x = \"bmi\", y = \"charges\", data = df, ax = ax[1], color = \"r\")\n",
    "\n",
    "plt.show()"
   ]
  },
  {
   "cell_type": "markdown",
   "id": "c15baa72-8b8b-496c-86f3-45f23bc11c7d",
   "metadata": {},
   "source": [
    "# 3. Kiểm tra và loại bỏ dữ liệu ngoại lai"
   ]
  },
  {
   "cell_type": "code",
   "execution_count": 6,
   "id": "ed0b00cb-bf1b-4bd4-9b55-8b6357ba4154",
   "metadata": {},
   "outputs": [
    {
     "data": {
      "text/plain": [
       "<AxesSubplot:>"
      ]
     },
     "execution_count": 6,
     "metadata": {},
     "output_type": "execute_result"
    },
    {
     "data": {
      "image/png": "[encoded data removed]",
      "text/plain": [
       "<Figure size 432x288 with 1 Axes>"
      ]
     },
     "metadata": {
      "needs_background": "light"
     },
     "output_type": "display_data"
    }
   ],
   "source": [
    "sns.boxplot(data = df)"
   ]
  },
  {
   "cell_type": "code",
   "execution_count": 7,
   "id": "2b61e644-5a23-4aa8-b9c6-9b45055fa0e1",
   "metadata": {},
   "outputs": [],
   "source": [
    "# Lấy dữ liệu với chi phí y tế <= 25000\n",
    "temp = df[df.charges <= 25000]"
   ]
  },
  {
   "cell_type": "code",
   "execution_count": 8,
   "id": "bcddca0c-5092-43cf-a561-4ee0a3677232",
   "metadata": {},
   "outputs": [
    {
     "data": {
      "text/plain": [
       "<AxesSubplot:xlabel='age'>"
      ]
     },
     "execution_count": 8,
     "metadata": {},
     "output_type": "execute_result"
    },
    {
     "data": {
      "image/png": "[encoded data removed]",
      "text/plain": [
       "<Figure size 432x288 with 1 Axes>"
      ]
     },
     "metadata": {
      "needs_background": "light"
     },
     "output_type": "display_data"
    }
   ],
   "source": [
    "sns.boxplot(x = \"age\", data = temp)"
   ]
  },
  {
   "cell_type": "code",
   "execution_count": 9,
   "id": "f67b8cb8-56a9-4101-b1e5-d431e53a16f1",
   "metadata": {},
   "outputs": [
    {
     "data": {
      "text/plain": [
       "<AxesSubplot:xlabel='bmi'>"
      ]
     },
     "execution_count": 9,
     "metadata": {},
     "output_type": "execute_result"
    },
    {
     "data": {
      "image/png": "[encoded data removed]",
      "text/plain": [
       "<Figure size 432x288 with 1 Axes>"
      ]
     },
     "metadata": {
      "needs_background": "light"
     },
     "output_type": "display_data"
    }
   ],
   "source": [
    "sns.boxplot(x = \"bmi\", data = temp)"
   ]
  },
  {
   "cell_type": "code",
   "execution_count": 11,
   "id": "972f76b7-f7cc-4dba-8c1c-693547c64a30",
   "metadata": {},
   "outputs": [],
   "source": [
    "temp1 = temp[temp.bmi <= 45]"
   ]
  },
  {
   "cell_type": "code",
   "execution_count": 12,
   "id": "d72a00c1-115b-443e-9f08-f67281560e2b",
   "metadata": {},
   "outputs": [
    {
     "data": {
      "text/plain": [
       "<AxesSubplot:xlabel='children'>"
      ]
     },
     "execution_count": 12,
     "metadata": {},
     "output_type": "execute_result"
    },
    {
     "data": {
      "image/png": "[encoded data removed]",
      "text/plain": [
       "<Figure size 432x288 with 1 Axes>"
      ]
     },
     "metadata": {
      "needs_background": "light"
     },
     "output_type": "display_data"
    }
   ],
   "source": [
    "sns.boxplot(x = \"children\", data = temp1)"
   ]
  },
  {
   "cell_type": "code",
   "execution_count": 14,
   "id": "04c7de6f-4f2c-4036-88db-3f2b93017632",
   "metadata": {},
   "outputs": [
    {
     "data": {
      "text/plain": [
       "<AxesSubplot:xlabel='charges'>"
      ]
     },
     "execution_count": 14,
     "metadata": {},
     "output_type": "execute_result"
    },
    {
     "data": {
      "image/png": "[encoded data removed]",
      "text/plain": [
       "<Figure size 432x288 with 1 Axes>"
      ]
     },
     "metadata": {
      "needs_background": "light"
     },
     "output_type": "display_data"
    }
   ],
   "source": [
    "sns.boxplot(x = \"charges\", data = temp1)"
   ]
  },
  {
   "cell_type": "code",
   "execution_count": 15,
   "id": "b7cd94d7-470c-490d-a9d4-d3781ffc67e2",
   "metadata": {},
   "outputs": [],
   "source": [
    "df3 = temp1.copy()"
   ]
  },
  {
   "cell_type": "code",
   "execution_count": 16,
   "id": "d40c7641-0d19-415d-a81d-e51f6bf1c5e2",
   "metadata": {},
   "outputs": [
    {
     "data": {
      "text/html": [
       "<div>\n",
       "<style scoped>\n",
       "    .dataframe tbody tr th:only-of-type {\n",
       "        vertical-align: middle;\n",
       "    }\n",
       "\n",
       "    .dataframe tbody tr th {\n",
       "        vertical-align: top;\n",
       "    }\n",
       "\n",
       "    .dataframe thead th {\n",
       "        text-align: right;\n",
       "    }\n",
       "</style>\n",
       "<table border=\"1\" class=\"dataframe\">\n",
       "  <thead>\n",
       "    <tr style=\"text-align: right;\">\n",
       "      <th></th>\n",
       "      <th>age</th>\n",
       "      <th>bmi</th>\n",
       "      <th>children</th>\n",
       "      <th>charges</th>\n",
       "      <th>sex_female</th>\n",
       "      <th>sex_male</th>\n",
       "      <th>smoker_no</th>\n",
       "      <th>smoker_yes</th>\n",
       "      <th>region_northeast</th>\n",
       "      <th>region_northwest</th>\n",
       "      <th>region_southeast</th>\n",
       "      <th>region_southwest</th>\n",
       "    </tr>\n",
       "  </thead>\n",
       "  <tbody>\n",
       "    <tr>\n",
       "      <th>0</th>\n",
       "      <td>19</td>\n",
       "      <td>27.900</td>\n",
       "      <td>0</td>\n",
       "      <td>16884.92400</td>\n",
       "      <td>1</td>\n",
       "      <td>0</td>\n",
       "      <td>0</td>\n",
       "      <td>1</td>\n",
       "      <td>0</td>\n",
       "      <td>0</td>\n",
       "      <td>0</td>\n",
       "      <td>1</td>\n",
       "    </tr>\n",
       "    <tr>\n",
       "      <th>1</th>\n",
       "      <td>18</td>\n",
       "      <td>33.770</td>\n",
       "      <td>1</td>\n",
       "      <td>1725.55230</td>\n",
       "      <td>0</td>\n",
       "      <td>1</td>\n",
       "      <td>1</td>\n",
       "      <td>0</td>\n",
       "      <td>0</td>\n",
       "      <td>0</td>\n",
       "      <td>1</td>\n",
       "      <td>0</td>\n",
       "    </tr>\n",
       "    <tr>\n",
       "      <th>2</th>\n",
       "      <td>28</td>\n",
       "      <td>33.000</td>\n",
       "      <td>3</td>\n",
       "      <td>4449.46200</td>\n",
       "      <td>0</td>\n",
       "      <td>1</td>\n",
       "      <td>1</td>\n",
       "      <td>0</td>\n",
       "      <td>0</td>\n",
       "      <td>0</td>\n",
       "      <td>1</td>\n",
       "      <td>0</td>\n",
       "    </tr>\n",
       "    <tr>\n",
       "      <th>3</th>\n",
       "      <td>33</td>\n",
       "      <td>22.705</td>\n",
       "      <td>0</td>\n",
       "      <td>21984.47061</td>\n",
       "      <td>0</td>\n",
       "      <td>1</td>\n",
       "      <td>1</td>\n",
       "      <td>0</td>\n",
       "      <td>0</td>\n",
       "      <td>1</td>\n",
       "      <td>0</td>\n",
       "      <td>0</td>\n",
       "    </tr>\n",
       "    <tr>\n",
       "      <th>4</th>\n",
       "      <td>32</td>\n",
       "      <td>28.880</td>\n",
       "      <td>0</td>\n",
       "      <td>3866.85520</td>\n",
       "      <td>0</td>\n",
       "      <td>1</td>\n",
       "      <td>1</td>\n",
       "      <td>0</td>\n",
       "      <td>0</td>\n",
       "      <td>1</td>\n",
       "      <td>0</td>\n",
       "      <td>0</td>\n",
       "    </tr>\n",
       "  </tbody>\n",
       "</table>\n",
       "</div>"
      ],
      "text/plain": [
       "   age     bmi  children      charges  sex_female  sex_male  smoker_no  \\\n",
       "0   19  27.900         0  16884.92400           1         0          0   \n",
       "1   18  33.770         1   1725.55230           0         1          1   \n",
       "2   28  33.000         3   4449.46200           0         1          1   \n",
       "3   33  22.705         0  21984.47061           0         1          1   \n",
       "4   32  28.880         0   3866.85520           0         1          1   \n",
       "\n",
       "   smoker_yes  region_northeast  region_northwest  region_southeast  \\\n",
       "0           1                 0                 0                 0   \n",
       "1           0                 0                 0                 1   \n",
       "2           0                 0                 0                 1   \n",
       "3           0                 0                 1                 0   \n",
       "4           0                 0                 1                 0   \n",
       "\n",
       "   region_southwest  \n",
       "0                 1  \n",
       "1                 0  \n",
       "2                 0  \n",
       "3                 0  \n",
       "4                 0  "
      ]
     },
     "execution_count": 16,
     "metadata": {},
     "output_type": "execute_result"
    }
   ],
   "source": [
    "# Do thuật toán hồi quy chỉ làm việc với dữ liệu dạng số nên ta chuyển các biến có kiểu Category thành biến \"Dummy\"\n",
    "df3 = pd.get_dummies(df)\n",
    "df3.head()"
   ]
  },
  {
   "cell_type": "code",
   "execution_count": 17,
   "id": "419eaaeb-d6ee-418e-b5f6-05aa6ce1c2a3",
   "metadata": {},
   "outputs": [],
   "source": [
    "# Xoá hai cột dữ liệu sex_male & smoker_no\n",
    "df3.drop(['sex_male', 'smoker_no'], axis=1, inplace=True)"
   ]
  },
  {
   "cell_type": "code",
   "execution_count": 18,
   "id": "d4dedc1a-1d77-42d6-95fc-65e1486f9c46",
   "metadata": {},
   "outputs": [
    {
     "name": "stdout",
     "output_type": "stream",
     "text": [
      "<class 'pandas.core.frame.DataFrame'>\n",
      "RangeIndex: 1338 entries, 0 to 1337\n",
      "Data columns (total 10 columns):\n",
      " #   Column            Non-Null Count  Dtype  \n",
      "---  ------            --------------  -----  \n",
      " 0   age               1338 non-null   int64  \n",
      " 1   bmi               1338 non-null   float64\n",
      " 2   children          1338 non-null   int64  \n",
      " 3   charges           1338 non-null   float64\n",
      " 4   sex_female        1338 non-null   uint8  \n",
      " 5   smoker_yes        1338 non-null   uint8  \n",
      " 6   region_northeast  1338 non-null   uint8  \n",
      " 7   region_northwest  1338 non-null   uint8  \n",
      " 8   region_southeast  1338 non-null   uint8  \n",
      " 9   region_southwest  1338 non-null   uint8  \n",
      "dtypes: float64(2), int64(2), uint8(6)\n",
      "memory usage: 49.8 KB\n"
     ]
    }
   ],
   "source": [
    "df3.info()"
   ]
  },
  {
   "cell_type": "markdown",
   "id": "f19666b7-df97-45b7-949f-d127164d076d",
   "metadata": {},
   "source": [
    "# 4. Tìm dữ liệu đa cộng tuyến"
   ]
  },
  {
   "cell_type": "code",
   "execution_count": 21,
   "id": "fe4410c4-9677-49ca-be53-485444d207ee",
   "metadata": {},
   "outputs": [],
   "source": [
    "# Đặt mảng y, chứa giá của các ngôi nhà tương ứng với cột \"charges\"\n",
    "y = df3.charges\n",
    "\n",
    "# Đặt mảng X chứa tất cả những cột còn lại\n",
    "df_ind = df3.drop(\"charges\", axis = 1)"
   ]
  },
  {
   "cell_type": "code",
   "execution_count": 23,
   "id": "28c8a393-6238-4933-9768-aeb81767c361",
   "metadata": {},
   "outputs": [
    {
     "data": {
      "text/plain": [
       "[]"
      ]
     },
     "execution_count": 23,
     "metadata": {},
     "output_type": "execute_result"
    },
    {
     "data": {
      "image/png": "[encoded data removed]",
      "text/plain": [
       "<Figure size 1296x576 with 2 Axes>"
      ]
     },
     "metadata": {
      "needs_background": "light"
     },
     "output_type": "display_data"
    }
   ],
   "source": [
    "# Tìm tương quan\n",
    "df_cor = df_ind.corr(method = \"pearson\")\n",
    "\n",
    "# Tạo ra mặt na để loại bỏ tam giác 1/2 phía trên của heatmap\n",
    "mask = np.triu(np.ones_like(df_cor, dtype = bool))\n",
    "\n",
    "# Tạo bảng màu đẹp hơn\n",
    "cmap = sns.diverging_palette(230, 20, as_cmap=True)\n",
    "\n",
    "plt.figure(figsize = (18,8))\n",
    "sns.heatmap(df_cor, vmin = -1, vmax= 1, mask = mask, cmap=cmap, center = 0, annot = True, square = True, linewidths= 0.5, cbar_kws={\"shrink\": 0.5, \"orientation\":\"vertical\"})\n",
    "plt.plot()"
   ]
  },
  {
   "cell_type": "markdown",
   "id": "f6894b33-787a-4d6f-a423-fdade0e48500",
   "metadata": {},
   "source": [
    "Chú ý chỉ số tương quan pearson có giá trị từ -1 đến 1\n",
    "- Càng gần 0 thì không tương quan\n",
    "- Càng gần 1 hoặc -1 thì càng tương quan </br>\n",
    "==> Kết luận: Các biến độc lập không có tương quan nên không có đa cộng tuyến"
   ]
  },
  {
   "cell_type": "code",
   "execution_count": 24,
   "id": "918bc63b-e734-48d7-aa39-c57caf36389e",
   "metadata": {},
   "outputs": [],
   "source": [
    "X = df_ind.copy()"
   ]
  },
  {
   "cell_type": "markdown",
   "id": "f55e05ed-984e-4199-b2a4-8c5b4443e04c",
   "metadata": {},
   "source": [
    "# 5. Xây dựng mô hình tuyến tính"
   ]
  },
  {
   "cell_type": "code",
   "execution_count": 25,
   "id": "ea36634f-0a11-4025-9b05-bc9f9f184d35",
   "metadata": {},
   "outputs": [],
   "source": [
    "# Chia bộ dữ liệu làm 2 phần: dữ liệu huấn luyện (train set) và dữ liệu kiểm tra (test set).\n",
    "# Tham số test_size = 0.3 cho biết 30% dữ liệu được lấy để kiểm tra, 70% dữ liệu được dùng để huấn luyện mô hình\n",
    "\n",
    "X_train, X_test,y_train, y_test= train_test_split(X,y,test_size=0.3,random_state=42)"
   ]
  },
  {
   "cell_type": "code",
   "execution_count": 26,
   "id": "25edf455-1798-4195-927c-9cf320346293",
   "metadata": {},
   "outputs": [
    {
     "data": {
      "text/plain": [
       "LinearRegression()"
      ]
     },
     "execution_count": 26,
     "metadata": {},
     "output_type": "execute_result"
    }
   ],
   "source": [
    "# Huấn luyện mô hình\n",
    "model_r = LinearRegression()\n",
    "model_r.fit(X_train, y_train)"
   ]
  },
  {
   "cell_type": "code",
   "execution_count": 27,
   "id": "d6998d62-a4f0-4306-be84-744c2727ecde",
   "metadata": {},
   "outputs": [
    {
     "data": {
      "text/plain": [
       "0.7696118054369009"
      ]
     },
     "execution_count": 27,
     "metadata": {},
     "output_type": "execute_result"
    }
   ],
   "source": [
    "# Kiểm tra model\n",
    "scr = model_r.score(X_test, y_test)\n",
    "scr"
   ]
  },
  {
   "cell_type": "markdown",
   "id": "0969c8fb-54a0-44ba-b152-677e73ce94c6",
   "metadata": {},
   "source": [
    "Kết luận: Mô hình đạt dự báo với độ chính xác ~77%"
   ]
  },
  {
   "cell_type": "code",
   "execution_count": 29,
   "id": "5bf637a0-9ad9-4c9b-a9ed-f0d2bd7356b2",
   "metadata": {},
   "outputs": [
    {
     "data": {
      "text/plain": [
       "array([ 9.01636753e+03,  7.01997635e+03,  3.68708343e+04,  9.51853774e+03,\n",
       "        2.69740308e+04,  1.10808462e+04, -4.06177600e+01,  1.71922331e+04,\n",
       "        9.74950536e+02,  1.13299594e+04,  2.80574861e+04,  9.47838799e+03,\n",
       "        4.98095281e+03,  3.84564701e+04,  4.03433327e+04,  3.71038753e+04,\n",
       "        1.51982019e+04,  3.57689693e+04,  8.88568387e+03,  3.13835989e+04,\n",
       "        3.79641903e+03,  1.02628964e+04,  2.37593679e+03,  7.26280819e+03,\n",
       "        1.12875675e+04,  1.31383480e+04,  1.46241614e+04,  6.07324604e+03,\n",
       "        1.00361537e+04,  1.97927814e+03,  9.07103928e+03,  1.31369887e+04,\n",
       "        4.30868680e+03,  3.21105955e+03,  4.48957162e+03,  1.33774493e+04,\n",
       "        1.82221028e+03,  8.79191682e+03,  3.31981518e+04,  3.25005781e+04,\n",
       "        3.76368816e+03,  4.35479656e+03,  1.42473276e+04,  1.15436019e+04,\n",
       "        8.70433805e+03,  1.22401028e+04,  5.20831471e+03,  2.98293172e+03,\n",
       "        3.54465532e+04,  9.10285846e+03,  1.57820945e+04,  2.13473894e+03,\n",
       "        1.24668220e+04,  1.54938571e+03,  1.34053719e+04,  1.28473334e+04,\n",
       "        4.45292570e+03,  3.22437514e+04,  1.34037537e+04,  1.30759280e+04,\n",
       "        1.42566593e+04,  1.03870794e+04,  1.66115344e+04,  7.67924983e+03,\n",
       "        1.19859772e+04,  3.92843534e+03,  2.65835119e+04,  1.08308191e+04,\n",
       "        1.95128291e+03,  6.33488049e+03,  1.10112514e+04,  1.17636262e+04,\n",
       "        1.08263871e+04,  9.08234702e+03,  1.19604601e+04,  6.50105143e+03,\n",
       "        7.42735409e+03,  1.07211916e+04,  6.33354759e+03,  8.69733988e+03,\n",
       "        3.61488505e+03,  3.68736945e+04,  6.30687909e+03,  3.09068874e+04,\n",
       "        3.49064234e+04,  3.55280239e+04,  6.88613550e+03,  1.30506683e+04,\n",
       "        9.92931617e+03,  1.46956125e+04,  1.79662926e+04,  3.50278076e+04,\n",
       "        3.30746710e+04,  6.32482249e+03,  3.19085861e+04,  9.60073983e+03,\n",
       "        2.92677441e+04,  3.39493394e+03,  2.81321269e+04,  5.80676746e+03,\n",
       "        5.31282926e+03,  1.74776460e+03,  1.15200454e+04,  1.53050498e+04,\n",
       "        1.19233534e+04,  4.16886626e+03,  9.81313523e+03,  3.15291378e+04,\n",
       "       -7.47759770e+01,  3.25392808e+04,  3.31798546e+03,  1.02123570e+04,\n",
       "        1.45082163e+04,  3.16997266e+04,  1.15930594e+04,  3.96851082e+03,\n",
       "        1.33856566e+04,  3.17279010e+04,  7.91762470e+03,  3.22395489e+03,\n",
       "        8.53540558e+03,  1.07379420e+04,  1.54527618e+04,  5.54280724e+03,\n",
       "        3.62333901e+03,  1.02353762e+04,  1.07499966e+04,  1.13664096e+04,\n",
       "        1.43531092e+04,  7.39239715e+03,  5.11044589e+03,  9.15211414e+03,\n",
       "        9.16049984e+03,  1.27422989e+04,  8.33444005e+03,  1.55896092e+04,\n",
       "        8.65087064e+03,  3.18745705e+04,  3.58544577e+04,  3.16617444e+04,\n",
       "        5.92615317e+03,  1.27853573e+04,  5.91188204e+03,  1.46675118e+04,\n",
       "        2.27316618e+03,  3.30166968e+04,  6.29418942e+03,  4.95310907e+03,\n",
       "        1.44325801e+04,  7.01569740e+03,  3.87492720e+04,  2.96019320e+03,\n",
       "        5.81725421e+03,  3.18785754e+04,  1.16459127e+04,  8.71329062e+03,\n",
       "        1.51346583e+04,  9.60753792e+03,  2.68003840e+04,  3.36706354e+04,\n",
       "        1.47334585e+04,  1.51047070e+03,  1.33077834e+04,  2.29238567e+03,\n",
       "        5.49596778e+03,  1.15549473e+04,  3.99435773e+04,  3.65333329e+04,\n",
       "        3.42186307e+04,  3.80401582e+03,  7.35909889e+03,  8.65388710e+03,\n",
       "        1.28040524e+04,  4.81713793e+03,  1.90362292e+03,  3.19590456e+04,\n",
       "        2.50622553e+04,  1.76066342e+04,  2.61755399e+04,  1.01206885e+04,\n",
       "        3.73947874e+04, -5.95739589e+02,  6.77709620e+03,  7.76609078e+03,\n",
       "        4.43645530e+03,  5.04452875e+03,  6.07417881e+03,  4.20334246e+03,\n",
       "        1.51726032e+04,  1.12607758e+04,  7.03115820e+03,  2.50525091e+03,\n",
       "        1.46223072e+03,  3.20466562e+04,  1.65083439e+04,  1.18789362e+04,\n",
       "        1.07957066e+03,  1.26607400e+04,  1.51086620e+03,  8.69657642e+03,\n",
       "        1.68902224e+03,  3.40058138e+04,  1.08756889e+04,  2.56974017e+03,\n",
       "        2.52981537e+04,  2.59738976e+04,  9.52339115e+03,  1.58473036e+03,\n",
       "        1.33107441e+04,  9.13519256e+02,  1.04715423e+04,  1.03398989e+04,\n",
       "        1.72658883e+04,  2.66233875e+04,  6.77219998e+03,  5.20991396e+03,\n",
       "        5.56558337e+03,  1.30540226e+04,  1.08915693e+04,  8.16068430e+03,\n",
       "        5.08929190e+03,  1.25297793e+04,  1.39348614e+04,  3.57516495e+04,\n",
       "        4.19584669e+03,  2.87579313e+04, -1.14816280e+03,  2.88161740e+03,\n",
       "        1.09878160e+04,  1.56242628e+04,  5.10433431e+03,  6.76301444e+03,\n",
       "        3.70867236e+03,  3.13682722e+04,  7.12374983e+03,  1.24206482e+04,\n",
       "        5.65837260e+03,  9.67672163e+03,  3.61915157e+04,  4.29099794e+03,\n",
       "        9.70105983e+03,  3.12449368e+04,  5.70357956e+03,  4.31220132e+03,\n",
       "        9.92286457e+02,  4.87642666e+03,  4.45920549e+03,  6.58071354e+03,\n",
       "        1.86745012e+04, -1.69255225e+03,  2.25329636e+03,  1.08451735e+04,\n",
       "        3.01782548e+03,  1.02761615e+04,  3.63182475e+03,  4.85687937e+03,\n",
       "        1.25657503e+04,  6.29493049e+03,  8.39003640e+03,  7.63851451e+03,\n",
       "        8.87347523e+03,  1.04366607e+04,  2.76138998e+04,  3.90930962e+04,\n",
       "        1.17741240e+04,  7.86236646e+03,  4.09351452e+04,  1.23825919e+04,\n",
       "        6.96769121e+03,  8.39240771e+03,  8.91633322e+03,  1.09407283e+04,\n",
       "        1.00125242e+04,  1.76907551e+04,  9.26683559e+02,  2.35867374e+04,\n",
       "        1.29922761e+04,  3.33839370e+04,  5.28567464e+03,  1.31828238e+04,\n",
       "        1.03836902e+04,  1.80715482e+04,  9.94657758e+03,  1.15453067e+04,\n",
       "        3.23413107e+04,  3.41161034e+03,  1.35695874e+04,  3.94082337e+04,\n",
       "        5.63940644e+03,  6.20614527e+03,  3.46648946e+03,  1.15027340e+04,\n",
       "        2.54222822e+04,  1.43993856e+04,  9.12076342e+03,  1.02268595e+04,\n",
       "        1.34991650e+04,  8.25909265e+02,  2.19043856e+03,  3.06679851e+04,\n",
       "        3.00633206e+04,  1.36495385e+04,  3.62504384e+03,  2.53430882e+04,\n",
       "        1.33871712e+04,  3.06238167e+04,  3.52503711e+03,  3.89322157e+04,\n",
       "        1.11916611e+04,  4.71456861e+03,  6.78218447e+03,  2.36501751e+03,\n",
       "        2.58238275e+04,  1.44838321e+04,  4.96503755e+02,  1.28284375e+04,\n",
       "        1.26451381e+04,  1.50224474e+04,  3.49844233e+04,  1.44199994e+04,\n",
       "        3.14508055e+04,  1.00596099e+04,  1.84250838e+04,  6.02322900e+03,\n",
       "        8.77054459e+03,  9.42475332e+03,  1.52623599e+04,  9.10147364e+03,\n",
       "        8.57703747e+03,  1.52538666e+04,  1.29162371e+04,  1.50507091e+04,\n",
       "        7.55688638e+03,  2.59073220e+04,  9.17887997e+03,  1.76843257e+03,\n",
       "        4.06914171e+03,  1.44063918e+04,  3.56818824e+04,  9.65101980e+03,\n",
       "        1.27491470e+04,  5.36425043e+03,  4.90925822e+03,  3.96001083e+03,\n",
       "        2.83671248e+03,  8.96711387e+03,  6.97687982e+03,  2.29664368e+03,\n",
       "        1.32191990e+04,  8.83743782e+03,  5.95734540e+03,  6.77014819e+02,\n",
       "        9.45177386e+03,  4.78553948e+03,  3.30846888e+04,  2.84093679e+04,\n",
       "        3.68889748e+04,  5.66951803e+03,  8.49155880e+03,  8.19133366e+03,\n",
       "        3.54425195e+03,  3.17311679e+04,  7.22097249e+03,  2.81725993e+04,\n",
       "        3.62070046e+04,  6.92517056e+03,  1.30191895e+04,  9.89787484e+03,\n",
       "        8.25555525e+03,  1.29121247e+04,  3.02357185e+04,  1.73698010e+04,\n",
       "        1.20163203e+04,  3.92606402e+03, -1.31795195e+03,  1.23019494e+04,\n",
       "        3.09216571e+04,  1.29541180e+04,  1.13530730e+04,  7.95364590e+03,\n",
       "        3.70314484e+03,  7.16459184e+03,  7.19704321e+03,  1.07380621e+04,\n",
       "        3.36978089e+04,  3.92682564e+04,  1.19732353e+04,  8.28169782e+03,\n",
       "        1.65740731e+04,  1.57632625e+04,  9.68911634e+03,  9.40128897e+03,\n",
       "        8.88121990e+03,  2.71557719e+03,  1.01799538e+04,  3.69233650e+03,\n",
       "        1.06473891e+04,  1.63027222e+04,  6.52910373e+03,  2.17378934e+03,\n",
       "        1.45036622e+04,  1.30534757e+02])"
      ]
     },
     "execution_count": 29,
     "metadata": {},
     "output_type": "execute_result"
    }
   ],
   "source": [
    "# Sử dụng mô hình với bộ dữ liệu kiểm tra\n",
    "y_pred = model_r.predict(X_test)\n",
    "y_pred"
   ]
  },
  {
   "cell_type": "code",
   "execution_count": 30,
   "id": "0db27cab-737d-4af6-a141-f93d3d99142e",
   "metadata": {},
   "outputs": [
    {
     "name": "stdout",
     "output_type": "stream",
     "text": [
      "r2_score is:  0.7696118054369009\n",
      "mean_squared_error is:  33780509.57479168\n",
      "root_mean_squared error is:  5812.100272258874\n"
     ]
    }
   ],
   "source": [
    "# Đánh giá mô hình sử dụng r2-score, mean_squared_error & root_mean_squared_error\n",
    "score = r2_score(y_test, y_pred)\n",
    "print(\"r2_score is: \", score)\n",
    "print(\"mean_squared_error is: \", mean_squared_error(y_test, y_pred))\n",
    "print(\"root_mean_squared error is: \", np.sqrt(mean_squared_error(y_test, y_pred)))"
   ]
  },
  {
   "cell_type": "code",
   "execution_count": null,
   "id": "6aa457d4-b1be-44fc-acc7-0f651fe09a77",
   "metadata": {},
   "outputs": [],
   "source": []
  }
 ],
 "metadata": {
  "kernelspec": {
   "display_name": "Python 3 (ipykernel)",
   "language": "python",
   "name": "python3"
  },
  "language_info": {
   "codemirror_mode": {
    "name": "ipython",
    "version": 3
   },
   "file_extension": ".py",
   "mimetype": "text/x-python",
   "name": "python",
   "nbconvert_exporter": "python",
   "pygments_lexer": "ipython3",
   "version": "3.10.1"
  }
 },
 "nbformat": 4,
 "nbformat_minor": 5
}
